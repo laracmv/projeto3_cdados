{
 "cells": [
  {
   "cell_type": "markdown",
   "metadata": {},
   "source": [
    "# Projeto 3 - Ciência dos Dados"
   ]
  },
  {
   "cell_type": "markdown",
   "metadata": {},
   "source": [
    "Nome: Lara Christine Melo Vasconcelos\n",
    "\n",
    "Nome: João Lucas Brasileiro\n",
    "\n",
    "Nome: Yamandú Germano\n",
    "\n",
    "Nome: Silas André Pereira\n",
    "\n",
    "Nome: Enzo Christofoletti"
   ]
  },
  {
   "cell_type": "markdown",
   "metadata": {},
   "source": [
    "___\n",
    "Carregando algumas bibliotecas:"
   ]
  },
  {
   "cell_type": "code",
   "execution_count": 2,
   "metadata": {},
   "outputs": [],
   "source": [
    "%matplotlib inline\n",
    "import pandas as pd\n",
    "import matplotlib.pyplot as plt\n",
    "import numpy as np\n",
    "import os"
   ]
  },
  {
   "cell_type": "code",
   "execution_count": 4,
   "metadata": {},
   "outputs": [
    {
     "data": {
      "text/html": [
       "<div>\n",
       "<style scoped>\n",
       "    .dataframe tbody tr th:only-of-type {\n",
       "        vertical-align: middle;\n",
       "    }\n",
       "\n",
       "    .dataframe tbody tr th {\n",
       "        vertical-align: top;\n",
       "    }\n",
       "\n",
       "    .dataframe thead th {\n",
       "        text-align: right;\n",
       "    }\n",
       "</style>\n",
       "<table border=\"1\" class=\"dataframe\">\n",
       "  <thead>\n",
       "    <tr style=\"text-align: right;\">\n",
       "      <th></th>\n",
       "      <th>vacina_descricao_dose</th>\n",
       "      <th>paciente_idade</th>\n",
       "      <th>paciente_racaCor_valor</th>\n",
       "      <th>paciente_endereco_uf</th>\n",
       "      <th>vacina_categoria_nome</th>\n",
       "      <th>paciente_enumSexoBiologico</th>\n",
       "    </tr>\n",
       "  </thead>\n",
       "  <tbody>\n",
       "    <tr>\n",
       "      <th>0</th>\n",
       "      <td>1ª Dose</td>\n",
       "      <td>38.0</td>\n",
       "      <td>AMARELA</td>\n",
       "      <td>SP</td>\n",
       "      <td>Faixa Etária</td>\n",
       "      <td>M</td>\n",
       "    </tr>\n",
       "    <tr>\n",
       "      <th>1</th>\n",
       "      <td>3ª Dose</td>\n",
       "      <td>5.0</td>\n",
       "      <td>BRANCA</td>\n",
       "      <td>RS</td>\n",
       "      <td>Faixa Etária</td>\n",
       "      <td>M</td>\n",
       "    </tr>\n",
       "    <tr>\n",
       "      <th>2</th>\n",
       "      <td>1ª Dose</td>\n",
       "      <td>48.0</td>\n",
       "      <td>SEM INFORMACAO</td>\n",
       "      <td>SP</td>\n",
       "      <td>Faixa Etária</td>\n",
       "      <td>M</td>\n",
       "    </tr>\n",
       "    <tr>\n",
       "      <th>3</th>\n",
       "      <td>1ª Dose</td>\n",
       "      <td>77.0</td>\n",
       "      <td>SEM INFORMACAO</td>\n",
       "      <td>MG</td>\n",
       "      <td>Faixa Etária</td>\n",
       "      <td>F</td>\n",
       "    </tr>\n",
       "    <tr>\n",
       "      <th>4</th>\n",
       "      <td>Reforço</td>\n",
       "      <td>63.0</td>\n",
       "      <td>SEM INFORMACAO</td>\n",
       "      <td>SP</td>\n",
       "      <td>Faixa Etária</td>\n",
       "      <td>M</td>\n",
       "    </tr>\n",
       "  </tbody>\n",
       "</table>\n",
       "</div>"
      ],
      "text/plain": [
       "  vacina_descricao_dose  paciente_idade paciente_racaCor_valor  \\\n",
       "0               1ª Dose            38.0                AMARELA   \n",
       "1               3ª Dose             5.0                 BRANCA   \n",
       "2               1ª Dose            48.0         SEM INFORMACAO   \n",
       "3               1ª Dose            77.0         SEM INFORMACAO   \n",
       "4               Reforço            63.0         SEM INFORMACAO   \n",
       "\n",
       "  paciente_endereco_uf vacina_categoria_nome paciente_enumSexoBiologico  \n",
       "0                   SP          Faixa Etária                          M  \n",
       "1                   RS          Faixa Etária                          M  \n",
       "2                   SP          Faixa Etária                          M  \n",
       "3                   MG          Faixa Etária                          F  \n",
       "4                   SP          Faixa Etária                          M  "
      ]
     },
     "execution_count": 4,
     "metadata": {},
     "output_type": "execute_result"
    }
   ],
   "source": [
    "dados = pd.read_csv('dados_filtrados.csv',sep=';')\n",
    "dados.head(5)"
   ]
  },
  {
   "cell_type": "code",
   "execution_count": 16,
   "metadata": {},
   "outputs": [
    {
     "data": {
      "text/plain": [
       "734002"
      ]
     },
     "execution_count": 16,
     "metadata": {},
     "output_type": "execute_result"
    }
   ],
   "source": [
    "int(dados.shape[0]*.7)"
   ]
  },
  {
   "cell_type": "code",
   "execution_count": 24,
   "metadata": {},
   "outputs": [
    {
     "data": {
      "text/plain": [
       "(734002, 6)"
      ]
     },
     "execution_count": 24,
     "metadata": {},
     "output_type": "execute_result"
    }
   ],
   "source": [
    "train = dados.iloc[:int(dados.shape[0]*.7)]\n",
    "train.shape"
   ]
  },
  {
   "cell_type": "code",
   "execution_count": 25,
   "metadata": {},
   "outputs": [
    {
     "data": {
      "text/plain": [
       "(314572, 6)"
      ]
     },
     "execution_count": 25,
     "metadata": {},
     "output_type": "execute_result"
    }
   ],
   "source": [
    "test = dados.iloc[int(dados.shape[0]*.7):-1]\n",
    "test.shape"
   ]
  }
 ],
 "metadata": {
  "kernelspec": {
   "display_name": "base",
   "language": "python",
   "name": "python3"
  },
  "language_info": {
   "codemirror_mode": {
    "name": "ipython",
    "version": 3
   },
   "file_extension": ".py",
   "mimetype": "text/x-python",
   "name": "python",
   "nbconvert_exporter": "python",
   "pygments_lexer": "ipython3",
   "version": "3.11.5"
  }
 },
 "nbformat": 4,
 "nbformat_minor": 2
}
